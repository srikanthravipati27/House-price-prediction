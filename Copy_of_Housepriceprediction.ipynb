{
  "nbformat": 4,
  "nbformat_minor": 0,
  "metadata": {
    "colab": {
      "provenance": [],
      "include_colab_link": true
    },
    "kernelspec": {
      "name": "python3",
      "display_name": "Python 3"
    },
    "language_info": {
      "name": "python"
    }
  },
  "cells": [
    {
      "cell_type": "markdown",
      "metadata": {
        "id": "view-in-github",
        "colab_type": "text"
      },
      "source": [
        "<a href=\"https://colab.research.google.com/github/srikanthravipati27/House-price-prediction/blob/main/Copy_of_Housepriceprediction.ipynb\" target=\"_parent\"><img src=\"https://colab.research.google.com/assets/colab-badge.svg\" alt=\"Open In Colab\"/></a>"
      ]
    },
    {
      "cell_type": "code",
      "execution_count": null,
      "metadata": {
        "id": "gMHRrIjuDwii"
      },
      "outputs": [],
      "source": [
        "import pandas as pd\n",
        "import numpy as np\n",
        "import torch\n",
        "import torch.nn as nn\n",
        "import torch.optim as optim\n",
        "from sklearn.preprocessing import StandardScaler, OneHotEncoder\n",
        "from sklearn.impute import SimpleImputer\n",
        "from sklearn.compose import ColumnTransformer\n",
        "from sklearn.pipeline import Pipeline\n",
        "import matplotlib.pyplot as plt\n",
        "from sklearn.model_selection import train_test_split\n"
      ]
    },
    {
      "cell_type": "code",
      "source": [
        "df = pd.read_csv('/content/house_price_prediction_dataset.csv')"
      ],
      "metadata": {
        "id": "HwV1NNqpEILB"
      },
      "execution_count": null,
      "outputs": []
    },
    {
      "cell_type": "code",
      "source": [
        "X = df.drop('House Price', axis=1)\n",
        "y = df['House Price'].values.reshape(-1, 1)"
      ],
      "metadata": {
        "id": "1wRpwt5bEKjV"
      },
      "execution_count": null,
      "outputs": []
    },
    {
      "cell_type": "code",
      "source": [
        "num_cols = X.select_dtypes(include='float64').columns.tolist()\n",
        "cat_cols = ['Neighborhood Quality']"
      ],
      "metadata": {
        "id": "grHnMQFzEN_H"
      },
      "execution_count": null,
      "outputs": []
    },
    {
      "cell_type": "code",
      "source": [
        "num_pipeline = Pipeline([\n",
        "    ('imputer', SimpleImputer(strategy='mean')),\n",
        "    ('scaler', StandardScaler())\n",
        "])\n",
        "cat_pipeline = Pipeline([\n",
        "    ('imputer', SimpleImputer(strategy='most_frequent')),\n",
        "    ('encoder', OneHotEncoder(drop='first', sparse_output=False))\n",
        "])\n",
        "\n",
        "preprocessor = ColumnTransformer([\n",
        "    ('num', num_pipeline, num_cols),\n",
        "    ('cat', cat_pipeline, cat_cols)\n",
        "])"
      ],
      "metadata": {
        "id": "7gG7OFDyEThr"
      },
      "execution_count": null,
      "outputs": []
    },
    {
      "cell_type": "code",
      "source": [
        "X_processed = preprocessor.fit_transform(X)"
      ],
      "metadata": {
        "id": "fEN20rhjLM5E"
      },
      "execution_count": null,
      "outputs": []
    },
    {
      "cell_type": "code",
      "source": [
        "y_mean, y_std = y.mean(), y.std()\n",
        "y_normalized = (y - y_mean) / y_std"
      ],
      "metadata": {
        "id": "7s3xbyq7LQvZ"
      },
      "execution_count": null,
      "outputs": []
    },
    {
      "cell_type": "code",
      "source": [
        "X_train, X_test, y_train, y_test = train_test_split(X_processed, y_normalized, test_size=0.2, random_state=42)"
      ],
      "metadata": {
        "id": "TlDA4C8rLSKz"
      },
      "execution_count": null,
      "outputs": []
    },
    {
      "cell_type": "code",
      "source": [
        "X_train_tensor = torch.tensor(X_train, dtype=torch.float32)\n",
        "y_train_tensor = torch.tensor(y_train, dtype=torch.float32)\n",
        "X_test_tensor = torch.tensor(X_test, dtype=torch.float32)\n",
        "y_test_tensor = torch.tensor(y_test, dtype=torch.float32)"
      ],
      "metadata": {
        "id": "pYykXO83LcOB"
      },
      "execution_count": null,
      "outputs": []
    },
    {
      "cell_type": "code",
      "source": [
        "class SimpleNet(nn.Module):\n",
        "    def __init__(self, input_dim, activation='relu'):\n",
        "        super(SimpleNet, self).__init__()\n",
        "        self.linear = nn.Linear(input_dim, 1)\n",
        "        self.activation_type = activation.lower()\n",
        "\n",
        "    def forward(self, x):\n",
        "        out = self.linear(x)\n",
        "        if self.activation_type == 'relu':\n",
        "            return torch.relu(out)\n",
        "        elif self.activation_type == 'tanh':\n",
        "            return torch.tanh(out)\n",
        "        else:\n",
        "            return out\n"
      ],
      "metadata": {
        "id": "MANJC9StLgX4"
      },
      "execution_count": null,
      "outputs": []
    },
    {
      "cell_type": "code",
      "source": [
        "def train_model(model, X, y, epochs=1000, lr=0.01):\n",
        "    criterion = nn.MSELoss()\n",
        "    optimizer = optim.SGD(model.parameters(), lr=lr)\n",
        "    losses = []\n",
        "\n",
        "    for epoch in range(epochs):\n",
        "        model.train()\n",
        "        optimizer.zero_grad()\n",
        "        outputs = model(X)\n",
        "        loss = criterion(outputs, y)\n",
        "        loss.backward()\n",
        "        optimizer.step()\n",
        "        losses.append(loss.item())\n",
        "        if epoch % 100 == 0:\n",
        "            print(f\"Epoch {epoch}, Loss: {loss.item():.4f}\")\n",
        "    return losses"
      ],
      "metadata": {
        "id": "HpahGoTMLlAQ"
      },
      "execution_count": null,
      "outputs": []
    },
    {
      "cell_type": "code",
      "source": [
        "model_relu = SimpleNet(X_train.shape[1], activation='relu')\n",
        "relu_losses = train_model(model_relu, X_train_tensor, y_train_tensor)\n",
        "model_tanh = SimpleNet(X_train.shape[1], activation='tanh')\n",
        "tanh_losses = train_model(model_tanh, X_train_tensor, y_train_tensor)\n"
      ],
      "metadata": {
        "colab": {
          "base_uri": "https://localhost:8080/"
        },
        "id": "AYYRuxIMLpv5",
        "outputId": "4a25d5ae-3c06-43a9-c451-95158acdc967"
      },
      "execution_count": null,
      "outputs": [
        {
          "output_type": "stream",
          "name": "stdout",
          "text": [
            "Epoch 0, Loss: 1.4004\n",
            "Epoch 100, Loss: 0.7473\n",
            "Epoch 200, Loss: 0.5712\n",
            "Epoch 300, Loss: 0.5568\n",
            "Epoch 400, Loss: 0.5527\n",
            "Epoch 500, Loss: 0.5504\n",
            "Epoch 600, Loss: 0.5488\n",
            "Epoch 700, Loss: 0.5477\n",
            "Epoch 800, Loss: 0.5470\n",
            "Epoch 900, Loss: 0.5464\n",
            "Epoch 0, Loss: 1.4073\n",
            "Epoch 100, Loss: 0.3279\n",
            "Epoch 200, Loss: 0.2581\n",
            "Epoch 300, Loss: 0.2386\n",
            "Epoch 400, Loss: 0.2286\n",
            "Epoch 500, Loss: 0.2221\n",
            "Epoch 600, Loss: 0.2174\n",
            "Epoch 700, Loss: 0.2138\n",
            "Epoch 800, Loss: 0.2108\n",
            "Epoch 900, Loss: 0.2084\n"
          ]
        }
      ]
    },
    {
      "cell_type": "code",
      "source": [
        "plt.plot(relu_losses, label='ReLU')\n",
        "plt.plot(tanh_losses, label='Tanh')\n",
        "plt.xlabel(\"Epochs\")\n",
        "plt.ylabel(\"MSE Loss\")\n",
        "plt.title(\"Loss Curves: ReLU vs Tanh\")\n",
        "plt.legend()\n",
        "plt.grid(True)\n",
        "plt.show()\n"
      ],
      "metadata": {
        "colab": {
          "base_uri": "https://localhost:8080/",
          "height": 472
        },
        "id": "dIARlyB3LvO7",
        "outputId": "35adda5f-d853-4860-a5f5-4b02d1b9942b"
      },
      "execution_count": null,
      "outputs": [
        {
          "output_type": "display_data",
          "data": {
            "text/plain": [
              "<Figure size 640x480 with 1 Axes>"
            ],
            "image/png": "[encoded data removed]"
          },
          "metadata": {}
        }
      ]
    },
    {
      "cell_type": "code",
      "source": [
        "model_relu.eval()\n",
        "with torch.no_grad():\n",
        "    predictions = model_relu(X_test_tensor)\n",
        "preds = predictions.numpy() * y_std + y_mean\n",
        "actuals = y_test_tensor.numpy() * y_std + y_mean\n",
        "for i in range(5):\n",
        "    print(f\"Actual: ₹{actuals[i][0]:,.2f} | Predicted: ₹{preds[i][0]:,.2f}\")\n"
      ],
      "metadata": {
        "colab": {
          "base_uri": "https://localhost:8080/"
        },
        "id": "CZ1zsQr4L1ui",
        "outputId": "c1983878-91ef-4ee6-d3da-e3a50ed80f69"
      },
      "execution_count": null,
      "outputs": [
        {
          "output_type": "stream",
          "name": "stdout",
          "text": [
            "Actual: ₹574,086.14 | Predicted: ₹599,361.40\n",
            "Actual: ₹588,372.03 | Predicted: ₹563,044.01\n",
            "Actual: ₹497,364.50 | Predicted: ₹560,533.97\n",
            "Actual: ₹527,053.95 | Predicted: ₹560,533.97\n",
            "Actual: ₹641,177.14 | Predicted: ₹648,908.33\n"
          ]
        }
      ]
    }
  ]
}